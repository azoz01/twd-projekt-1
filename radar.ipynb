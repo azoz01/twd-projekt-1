{
 "cells": [
  {
   "cell_type": "code",
   "execution_count": 2,
   "metadata": {},
   "outputs": [],
   "source": [
    "import pandas as pd\n",
    "import matplotlib.pyplot as plt\n",
    "import seaborn as sns"
   ]
  },
  {
   "cell_type": "code",
   "execution_count": 3,
   "metadata": {},
   "outputs": [
    {
     "name": "stdout",
     "output_type": "stream",
     "text": [
      "<class 'pandas.core.frame.DataFrame'>\n",
      "RangeIndex: 21477 entries, 0 to 21476\n",
      "Data columns (total 63 columns):\n",
      " #   Column             Non-Null Count  Dtype  \n",
      "---  ------             --------------  -----  \n",
      " 0   Area Abbreviation  21477 non-null  object \n",
      " 1   Area Code          21477 non-null  int64  \n",
      " 2   Area               21477 non-null  object \n",
      " 3   Item Code          21477 non-null  int64  \n",
      " 4   Item               21477 non-null  object \n",
      " 5   Element Code       21477 non-null  int64  \n",
      " 6   Element            21477 non-null  object \n",
      " 7   Unit               21477 non-null  object \n",
      " 8   latitude           21477 non-null  float64\n",
      " 9   longitude          21477 non-null  float64\n",
      " 10  Y1961              17938 non-null  float64\n",
      " 11  Y1962              17938 non-null  float64\n",
      " 12  Y1963              17938 non-null  float64\n",
      " 13  Y1964              17938 non-null  float64\n",
      " 14  Y1965              17938 non-null  float64\n",
      " 15  Y1966              17938 non-null  float64\n",
      " 16  Y1967              17938 non-null  float64\n",
      " 17  Y1968              17938 non-null  float64\n",
      " 18  Y1969              17938 non-null  float64\n",
      " 19  Y1970              17938 non-null  float64\n",
      " 20  Y1971              17938 non-null  float64\n",
      " 21  Y1972              17938 non-null  float64\n",
      " 22  Y1973              17938 non-null  float64\n",
      " 23  Y1974              17938 non-null  float64\n",
      " 24  Y1975              17938 non-null  float64\n",
      " 25  Y1976              17938 non-null  float64\n",
      " 26  Y1977              17938 non-null  float64\n",
      " 27  Y1978              17938 non-null  float64\n",
      " 28  Y1979              17938 non-null  float64\n",
      " 29  Y1980              17938 non-null  float64\n",
      " 30  Y1981              17938 non-null  float64\n",
      " 31  Y1982              17938 non-null  float64\n",
      " 32  Y1983              17938 non-null  float64\n",
      " 33  Y1984              17938 non-null  float64\n",
      " 34  Y1985              17938 non-null  float64\n",
      " 35  Y1986              17938 non-null  float64\n",
      " 36  Y1987              17938 non-null  float64\n",
      " 37  Y1988              17938 non-null  float64\n",
      " 38  Y1989              17938 non-null  float64\n",
      " 39  Y1990              18062 non-null  float64\n",
      " 40  Y1991              18062 non-null  float64\n",
      " 41  Y1992              20490 non-null  float64\n",
      " 42  Y1993              20865 non-null  float64\n",
      " 43  Y1994              20865 non-null  float64\n",
      " 44  Y1995              20865 non-null  float64\n",
      " 45  Y1996              20865 non-null  float64\n",
      " 46  Y1997              20865 non-null  float64\n",
      " 47  Y1998              20865 non-null  float64\n",
      " 48  Y1999              20865 non-null  float64\n",
      " 49  Y2000              21128 non-null  float64\n",
      " 50  Y2001              21128 non-null  float64\n",
      " 51  Y2002              21128 non-null  float64\n",
      " 52  Y2003              21128 non-null  float64\n",
      " 53  Y2004              21128 non-null  float64\n",
      " 54  Y2005              21128 non-null  float64\n",
      " 55  Y2006              21373 non-null  float64\n",
      " 56  Y2007              21373 non-null  float64\n",
      " 57  Y2008              21373 non-null  float64\n",
      " 58  Y2009              21373 non-null  float64\n",
      " 59  Y2010              21373 non-null  float64\n",
      " 60  Y2011              21373 non-null  float64\n",
      " 61  Y2012              21477 non-null  int64  \n",
      " 62  Y2013              21477 non-null  int64  \n",
      "dtypes: float64(53), int64(5), object(5)\n",
      "memory usage: 10.3+ MB\n"
     ]
    }
   ],
   "source": [
    "df1 = pd.read_csv('data/FAO.csv', encoding = 'latin-1')\n",
    "df1.info()"
   ]
  },
  {
   "cell_type": "markdown",
   "source": [],
   "metadata": {
    "collapsed": false
   }
  },
  {
   "cell_type": "code",
   "execution_count": 4,
   "metadata": {},
   "outputs": [
    {
     "data": {
      "text/plain": "              Area         Unit Element                      Item  Y2013  \\\n0      Afghanistan  1000 tonnes    Food        Wheat and products   4895   \n1      Afghanistan  1000 tonnes    Food  Rice (Milled Equivalent)    422   \n2      Afghanistan  1000 tonnes    Feed       Barley and products    360   \n3      Afghanistan  1000 tonnes    Food       Barley and products     89   \n4      Afghanistan  1000 tonnes    Feed        Maize and products    200   \n...            ...          ...     ...                       ...    ...   \n21472     Zimbabwe  1000 tonnes    Food   Milk - Excluding Butter    451   \n21473     Zimbabwe  1000 tonnes    Feed             Fish, Seafood     15   \n21474     Zimbabwe  1000 tonnes    Food             Fish, Seafood     40   \n21475     Zimbabwe  1000 tonnes    Food   Aquatic Products, Other      0   \n21476     Zimbabwe  1000 tonnes    Food             Miscellaneous      0   \n\n        Y1993  \n0      1840.0  \n1       218.0  \n2        50.0  \n3       155.0  \n4       141.0  \n...       ...  \n21472   297.0  \n21473     0.0  \n21474    33.0  \n21475     0.0  \n21476     0.0  \n\n[21477 rows x 6 columns]",
      "text/html": "<div>\n<style scoped>\n    .dataframe tbody tr th:only-of-type {\n        vertical-align: middle;\n    }\n\n    .dataframe tbody tr th {\n        vertical-align: top;\n    }\n\n    .dataframe thead th {\n        text-align: right;\n    }\n</style>\n<table border=\"1\" class=\"dataframe\">\n  <thead>\n    <tr style=\"text-align: right;\">\n      <th></th>\n      <th>Area</th>\n      <th>Unit</th>\n      <th>Element</th>\n      <th>Item</th>\n      <th>Y2013</th>\n      <th>Y1993</th>\n    </tr>\n  </thead>\n  <tbody>\n    <tr>\n      <th>0</th>\n      <td>Afghanistan</td>\n      <td>1000 tonnes</td>\n      <td>Food</td>\n      <td>Wheat and products</td>\n      <td>4895</td>\n      <td>1840.0</td>\n    </tr>\n    <tr>\n      <th>1</th>\n      <td>Afghanistan</td>\n      <td>1000 tonnes</td>\n      <td>Food</td>\n      <td>Rice (Milled Equivalent)</td>\n      <td>422</td>\n      <td>218.0</td>\n    </tr>\n    <tr>\n      <th>2</th>\n      <td>Afghanistan</td>\n      <td>1000 tonnes</td>\n      <td>Feed</td>\n      <td>Barley and products</td>\n      <td>360</td>\n      <td>50.0</td>\n    </tr>\n    <tr>\n      <th>3</th>\n      <td>Afghanistan</td>\n      <td>1000 tonnes</td>\n      <td>Food</td>\n      <td>Barley and products</td>\n      <td>89</td>\n      <td>155.0</td>\n    </tr>\n    <tr>\n      <th>4</th>\n      <td>Afghanistan</td>\n      <td>1000 tonnes</td>\n      <td>Feed</td>\n      <td>Maize and products</td>\n      <td>200</td>\n      <td>141.0</td>\n    </tr>\n    <tr>\n      <th>...</th>\n      <td>...</td>\n      <td>...</td>\n      <td>...</td>\n      <td>...</td>\n      <td>...</td>\n      <td>...</td>\n    </tr>\n    <tr>\n      <th>21472</th>\n      <td>Zimbabwe</td>\n      <td>1000 tonnes</td>\n      <td>Food</td>\n      <td>Milk - Excluding Butter</td>\n      <td>451</td>\n      <td>297.0</td>\n    </tr>\n    <tr>\n      <th>21473</th>\n      <td>Zimbabwe</td>\n      <td>1000 tonnes</td>\n      <td>Feed</td>\n      <td>Fish, Seafood</td>\n      <td>15</td>\n      <td>0.0</td>\n    </tr>\n    <tr>\n      <th>21474</th>\n      <td>Zimbabwe</td>\n      <td>1000 tonnes</td>\n      <td>Food</td>\n      <td>Fish, Seafood</td>\n      <td>40</td>\n      <td>33.0</td>\n    </tr>\n    <tr>\n      <th>21475</th>\n      <td>Zimbabwe</td>\n      <td>1000 tonnes</td>\n      <td>Food</td>\n      <td>Aquatic Products, Other</td>\n      <td>0</td>\n      <td>0.0</td>\n    </tr>\n    <tr>\n      <th>21476</th>\n      <td>Zimbabwe</td>\n      <td>1000 tonnes</td>\n      <td>Food</td>\n      <td>Miscellaneous</td>\n      <td>0</td>\n      <td>0.0</td>\n    </tr>\n  </tbody>\n</table>\n<p>21477 rows × 6 columns</p>\n</div>"
     },
     "execution_count": 4,
     "metadata": {},
     "output_type": "execute_result"
    }
   ],
   "source": [
    "df1 = df1.loc[:, ['Area', 'Unit', 'Element', 'Item', 'Y2013', 'Y1993']]\n",
    "df1"
   ]
  },
  {
   "cell_type": "code",
   "execution_count": 5,
   "metadata": {},
   "outputs": [
    {
     "data": {
      "text/plain": "                           Area         Unit Element  \\\n9033                      India  1000 tonnes    Feed   \n9034                      India  1000 tonnes    Food   \n9035                      India  1000 tonnes    Feed   \n9036                      India  1000 tonnes    Food   \n9037                      India  1000 tonnes    Feed   \n...                         ...          ...     ...   \n20530  United States of America  1000 tonnes    Feed   \n20531  United States of America  1000 tonnes    Food   \n20532  United States of America  1000 tonnes    Feed   \n20533  United States of America  1000 tonnes    Food   \n20534  United States of America  1000 tonnes    Food   \n\n                           Item  Y2013    Y1993  \n9033         Wheat and products   1870    687.0  \n9034         Wheat and products  75833  53528.0  \n9035   Rice (Milled Equivalent)   2124   1606.0  \n9036   Rice (Milled Equivalent)  87006  70216.0  \n9037        Barley and products    158    136.0  \n...                         ...    ...      ...  \n20530   Milk - Excluding Butter    481    711.0  \n20531   Milk - Excluding Butter  81513  67017.0  \n20532             Fish, Seafood    563   1748.0  \n20533             Fish, Seafood   6883   5994.0  \n20534   Aquatic Products, Other     13      0.0  \n\n[678 rows x 6 columns]",
      "text/html": "<div>\n<style scoped>\n    .dataframe tbody tr th:only-of-type {\n        vertical-align: middle;\n    }\n\n    .dataframe tbody tr th {\n        vertical-align: top;\n    }\n\n    .dataframe thead th {\n        text-align: right;\n    }\n</style>\n<table border=\"1\" class=\"dataframe\">\n  <thead>\n    <tr style=\"text-align: right;\">\n      <th></th>\n      <th>Area</th>\n      <th>Unit</th>\n      <th>Element</th>\n      <th>Item</th>\n      <th>Y2013</th>\n      <th>Y1993</th>\n    </tr>\n  </thead>\n  <tbody>\n    <tr>\n      <th>9033</th>\n      <td>India</td>\n      <td>1000 tonnes</td>\n      <td>Feed</td>\n      <td>Wheat and products</td>\n      <td>1870</td>\n      <td>687.0</td>\n    </tr>\n    <tr>\n      <th>9034</th>\n      <td>India</td>\n      <td>1000 tonnes</td>\n      <td>Food</td>\n      <td>Wheat and products</td>\n      <td>75833</td>\n      <td>53528.0</td>\n    </tr>\n    <tr>\n      <th>9035</th>\n      <td>India</td>\n      <td>1000 tonnes</td>\n      <td>Feed</td>\n      <td>Rice (Milled Equivalent)</td>\n      <td>2124</td>\n      <td>1606.0</td>\n    </tr>\n    <tr>\n      <th>9036</th>\n      <td>India</td>\n      <td>1000 tonnes</td>\n      <td>Food</td>\n      <td>Rice (Milled Equivalent)</td>\n      <td>87006</td>\n      <td>70216.0</td>\n    </tr>\n    <tr>\n      <th>9037</th>\n      <td>India</td>\n      <td>1000 tonnes</td>\n      <td>Feed</td>\n      <td>Barley and products</td>\n      <td>158</td>\n      <td>136.0</td>\n    </tr>\n    <tr>\n      <th>...</th>\n      <td>...</td>\n      <td>...</td>\n      <td>...</td>\n      <td>...</td>\n      <td>...</td>\n      <td>...</td>\n    </tr>\n    <tr>\n      <th>20530</th>\n      <td>United States of America</td>\n      <td>1000 tonnes</td>\n      <td>Feed</td>\n      <td>Milk - Excluding Butter</td>\n      <td>481</td>\n      <td>711.0</td>\n    </tr>\n    <tr>\n      <th>20531</th>\n      <td>United States of America</td>\n      <td>1000 tonnes</td>\n      <td>Food</td>\n      <td>Milk - Excluding Butter</td>\n      <td>81513</td>\n      <td>67017.0</td>\n    </tr>\n    <tr>\n      <th>20532</th>\n      <td>United States of America</td>\n      <td>1000 tonnes</td>\n      <td>Feed</td>\n      <td>Fish, Seafood</td>\n      <td>563</td>\n      <td>1748.0</td>\n    </tr>\n    <tr>\n      <th>20533</th>\n      <td>United States of America</td>\n      <td>1000 tonnes</td>\n      <td>Food</td>\n      <td>Fish, Seafood</td>\n      <td>6883</td>\n      <td>5994.0</td>\n    </tr>\n    <tr>\n      <th>20534</th>\n      <td>United States of America</td>\n      <td>1000 tonnes</td>\n      <td>Food</td>\n      <td>Aquatic Products, Other</td>\n      <td>13</td>\n      <td>0.0</td>\n    </tr>\n  </tbody>\n</table>\n<p>678 rows × 6 columns</p>\n</div>"
     },
     "execution_count": 5,
     "metadata": {},
     "output_type": "execute_result"
    }
   ],
   "source": [
    "df1 = df1[(df1.Area=='Japan') |\n",
    "         (df1.Area=='United States of America') |\n",
    "         (df1.Area=='India') |\n",
    "         (df1.Area=='Norway') |\n",
    "         (df1.Area=='Senegal')]\n",
    "df1"
   ]
  },
  {
   "cell_type": "code",
   "execution_count": 6,
   "metadata": {},
   "outputs": [
    {
     "data": {
      "text/plain": "        Area         Unit Element                Item  Y2013   Y1993\n10071  Japan  1000 tonnes    Feed  Wheat and products   1156   595.0\n10072  Japan  1000 tonnes    Food  Wheat and products   5727  5364.0",
      "text/html": "<div>\n<style scoped>\n    .dataframe tbody tr th:only-of-type {\n        vertical-align: middle;\n    }\n\n    .dataframe tbody tr th {\n        vertical-align: top;\n    }\n\n    .dataframe thead th {\n        text-align: right;\n    }\n</style>\n<table border=\"1\" class=\"dataframe\">\n  <thead>\n    <tr style=\"text-align: right;\">\n      <th></th>\n      <th>Area</th>\n      <th>Unit</th>\n      <th>Element</th>\n      <th>Item</th>\n      <th>Y2013</th>\n      <th>Y1993</th>\n    </tr>\n  </thead>\n  <tbody>\n    <tr>\n      <th>10071</th>\n      <td>Japan</td>\n      <td>1000 tonnes</td>\n      <td>Feed</td>\n      <td>Wheat and products</td>\n      <td>1156</td>\n      <td>595.0</td>\n    </tr>\n    <tr>\n      <th>10072</th>\n      <td>Japan</td>\n      <td>1000 tonnes</td>\n      <td>Food</td>\n      <td>Wheat and products</td>\n      <td>5727</td>\n      <td>5364.0</td>\n    </tr>\n  </tbody>\n</table>\n</div>"
     },
     "execution_count": 6,
     "metadata": {},
     "output_type": "execute_result"
    }
   ],
   "source": [
    "df1[(df1.Item == 'Wheat and products') & (df1.Area == 'Japan')]"
   ]
  },
  {
   "cell_type": "code",
   "execution_count": 7,
   "metadata": {},
   "outputs": [],
   "source": [
    "df1 = df1[(df1.Element == 'Food')]"
   ]
  },
  {
   "cell_type": "code",
   "execution_count": 8,
   "metadata": {},
   "outputs": [
    {
     "data": {
      "text/plain": "        Area         Unit Element                Item  Y2013   Y1993\n10072  Japan  1000 tonnes    Food  Wheat and products   5727  5364.0",
      "text/html": "<div>\n<style scoped>\n    .dataframe tbody tr th:only-of-type {\n        vertical-align: middle;\n    }\n\n    .dataframe tbody tr th {\n        vertical-align: top;\n    }\n\n    .dataframe thead th {\n        text-align: right;\n    }\n</style>\n<table border=\"1\" class=\"dataframe\">\n  <thead>\n    <tr style=\"text-align: right;\">\n      <th></th>\n      <th>Area</th>\n      <th>Unit</th>\n      <th>Element</th>\n      <th>Item</th>\n      <th>Y2013</th>\n      <th>Y1993</th>\n    </tr>\n  </thead>\n  <tbody>\n    <tr>\n      <th>10072</th>\n      <td>Japan</td>\n      <td>1000 tonnes</td>\n      <td>Food</td>\n      <td>Wheat and products</td>\n      <td>5727</td>\n      <td>5364.0</td>\n    </tr>\n  </tbody>\n</table>\n</div>"
     },
     "execution_count": 8,
     "metadata": {},
     "output_type": "execute_result"
    }
   ],
   "source": [
    "df1[(df1.Item == 'Wheat and products') & (df1.Area == 'Japan')]"
   ]
  },
  {
   "cell_type": "code",
   "execution_count": 11,
   "metadata": {},
   "outputs": [],
   "source": [
    "people_in_thousands2013 = {'Japan':128542, 'United States of America':309011, 'India':1234281, 'Norway':4885, 'Senegal':12678}\n",
    "people_in_thousands1993 = {'Japan':124738, 'United States of America':259918, 'India':886743, 'Norway':4311, 'Senegal':\t7961}"
   ]
  },
  {
   "cell_type": "code",
   "execution_count": 12,
   "metadata": {
    "scrolled": false
   },
   "outputs": [
    {
     "name": "stderr",
     "output_type": "stream",
     "text": [
      "C:\\Users\\grzes\\AppData\\Local\\Temp/ipykernel_10740/1223133061.py:1: SettingWithCopyWarning: \n",
      "A value is trying to be set on a copy of a slice from a DataFrame.\n",
      "Try using .loc[row_indexer,col_indexer] = value instead\n",
      "\n",
      "See the caveats in the documentation: https://pandas.pydata.org/pandas-docs/stable/user_guide/indexing.html#returning-a-view-versus-a-copy\n",
      "  df1['kg/(person*year) 2013']  = df1.apply(lambda row:\n",
      "C:\\Users\\grzes\\AppData\\Local\\Temp/ipykernel_10740/1223133061.py:3: SettingWithCopyWarning: \n",
      "A value is trying to be set on a copy of a slice from a DataFrame.\n",
      "Try using .loc[row_indexer,col_indexer] = value instead\n",
      "\n",
      "See the caveats in the documentation: https://pandas.pydata.org/pandas-docs/stable/user_guide/indexing.html#returning-a-view-versus-a-copy\n",
      "  df1['kg/(person*year) 1993']  = df1.apply(lambda row:\n"
     ]
    }
   ],
   "source": [
    "df1['kg/(person*year) 2013']  = df1.apply(lambda row:\n",
    "                                          row.Y2013*1000/people_in_thousands2013[row.Area], axis = 1)\n",
    "df1['kg/(person*year) 1993']  = df1.apply(lambda row:\n",
    "                                          row.Y1993*1000/people_in_thousands1993[row.Area], axis = 1)"
   ]
  },
  {
   "cell_type": "code",
   "execution_count": 10,
   "metadata": {},
   "outputs": [
    {
     "data": {
      "text/plain": "array(['Alcoholic Beverages', 'Animal fats', 'Apples and products',\n       'Aquatic Animals, Others', 'Aquatic Plants',\n       'Aquatic Products, Other', 'Bananas', 'Barley and products',\n       'Beans', 'Beer', 'Beverages, Alcoholic', 'Beverages, Fermented',\n       'Bovine Meat', 'Butter, Ghee', 'Cassava and products',\n       'Cephalopods', 'Cereals - Excluding Beer', 'Cereals, Other',\n       'Citrus, Other', 'Cloves', 'Cocoa Beans and products',\n       'Coconut Oil', 'Coconuts - Incl Copra', 'Coffee and products',\n       'Cottonseed Oil', 'Cream', 'Crustaceans', 'Dates', 'Demersal Fish',\n       'Eggs', 'Fats, Animals, Raw', 'Fish, Body Oil', 'Fish, Liver Oil',\n       'Fish, Seafood', 'Freshwater Fish', 'Fruits - Excluding Wine',\n       'Fruits, Other', 'Grapefruit and products',\n       'Grapes and products (excl wine)', 'Groundnut Oil',\n       'Groundnuts (Shelled Eq)', 'Honey', 'Infant food',\n       'Lemons, Limes and products', 'Maize Germ Oil',\n       'Maize and products', 'Marine Fish, Other', 'Meat', 'Meat, Other',\n       'Milk - Excluding Butter', 'Millet and products', 'Miscellaneous',\n       'Molluscs, Other', 'Mutton & Goat Meat', 'Nuts and products',\n       'Oats', 'Offals', 'Offals, Edible', 'Oilcrops',\n       'Oilcrops Oil, Other', 'Oilcrops, Other', 'Olive Oil',\n       'Olives (including preserved)', 'Onions', 'Oranges, Mandarines',\n       'Palm Oil', 'Palm kernels', 'Palmkernel Oil', 'Peas',\n       'Pelagic Fish', 'Pepper', 'Pigmeat', 'Pimento',\n       'Pineapples and products', 'Plantains', 'Potatoes and products',\n       'Poultry Meat', 'Pulses', 'Pulses, Other and products',\n       'Rape and Mustard Oil', 'Rape and Mustardseed',\n       'Rice (Milled Equivalent)', 'Ricebran Oil', 'Roots, Other',\n       'Rye and products', 'Sesame seed', 'Sesameseed Oil',\n       'Sorghum and products', 'Soyabean Oil', 'Soyabeans', 'Spices',\n       'Spices, Other', 'Starchy Roots', 'Stimulants',\n       'Sugar & Sweeteners', 'Sugar (Raw Equivalent)', 'Sugar Crops',\n       'Sugar beet', 'Sugar cane', 'Sugar non-centrifugal',\n       'Sunflower seed', 'Sunflowerseed Oil', 'Sweet potatoes',\n       'Sweeteners, Other', 'Tea (including mate)',\n       'Tomatoes and products', 'Treenuts', 'Vegetable Oils',\n       'Vegetables', 'Vegetables, Other', 'Wheat and products', 'Wine',\n       'Yams'], dtype=object)"
     },
     "execution_count": 10,
     "metadata": {},
     "output_type": "execute_result"
    }
   ],
   "source": [
    "import numpy as np\n",
    "np.unique(df1.Item)"
   ]
  },
  {
   "cell_type": "code",
   "execution_count": 77,
   "metadata": {},
   "outputs": [
    {
     "data": {
      "text/plain": "   var1  var2  var3  var4  var5\n0  38.0    29     8     7    28\n1   1.5    10    39    31    15\n2  30.0     9    23    33    32\n3   4.0    34    24    14    14",
      "text/html": "<div>\n<style scoped>\n    .dataframe tbody tr th:only-of-type {\n        vertical-align: middle;\n    }\n\n    .dataframe tbody tr th {\n        vertical-align: top;\n    }\n\n    .dataframe thead th {\n        text-align: right;\n    }\n</style>\n<table border=\"1\" class=\"dataframe\">\n  <thead>\n    <tr style=\"text-align: right;\">\n      <th></th>\n      <th>var1</th>\n      <th>var2</th>\n      <th>var3</th>\n      <th>var4</th>\n      <th>var5</th>\n    </tr>\n  </thead>\n  <tbody>\n    <tr>\n      <th>0</th>\n      <td>38.0</td>\n      <td>29</td>\n      <td>8</td>\n      <td>7</td>\n      <td>28</td>\n    </tr>\n    <tr>\n      <th>1</th>\n      <td>1.5</td>\n      <td>10</td>\n      <td>39</td>\n      <td>31</td>\n      <td>15</td>\n    </tr>\n    <tr>\n      <th>2</th>\n      <td>30.0</td>\n      <td>9</td>\n      <td>23</td>\n      <td>33</td>\n      <td>32</td>\n    </tr>\n    <tr>\n      <th>3</th>\n      <td>4.0</td>\n      <td>34</td>\n      <td>24</td>\n      <td>14</td>\n      <td>14</td>\n    </tr>\n  </tbody>\n</table>\n</div>"
     },
     "execution_count": 77,
     "metadata": {},
     "output_type": "execute_result"
    }
   ],
   "source": [
    "# Libraries\n",
    "import matplotlib.pyplot as plt\n",
    "from math import pi\n",
    "\n",
    "# Set data\n",
    "df = pd.DataFrame({\n",
    "    'var1': [38, 1.5, 30, 4],\n",
    "    'var2': [29, 10, 9, 34],\n",
    "    'var3': [8, 39, 23, 24],\n",
    "    'var4': [7, 31, 33, 14],\n",
    "    'var5': [28, 15, 32, 14]\n",
    "})\n",
    "\n",
    "def spider(df):\n",
    "    categories=list(df)\n",
    "    N = len(categories)\n",
    "\n",
    "    # We are going to plot the first line of the data frame.\n",
    "    # But we need to repeat the first value to close the circular graph:\n",
    "    values=df.loc[0].values.flatten().tolist()\n",
    "    values += values[:1]\n",
    "    values\n",
    "    values2=df.loc[1].values.flatten().tolist()\n",
    "    values2 += values2[:1]\n",
    "    values2\n",
    "    # What will be the angle of each axis in the plot? (we divide the plot / number of variable)\n",
    "    angles = [n / float(N) * 2 * pi for n in range(N)]\n",
    "    angles += angles[:1]\n",
    "\n",
    "    # Initialise the spider plot\n",
    "    ax = plt.subplot(111, polar=True)\n",
    "\n",
    "    # Draw one axe per variable + add labels\n",
    "    plt.xticks(angles[:-1], categories, color='grey', size=8)\n",
    "\n",
    "    # Draw ylabels\n",
    "    ax.set_rlabel_position(0)\n",
    "    plt.yticks([40, 80, 120], [\"40\",\"80\",\"120\"], color=\"grey\", size=7)\n",
    "    plt.ylim(0,160)\n",
    "\n",
    "    # Plot data\n",
    "    ax.plot(angles, values, linewidth=1, linestyle='solid')\n",
    "\n",
    "    # Fill area\n",
    "    ax.fill(angles, values, 'b', alpha=0.1)\n",
    "    ax.plot(angles, values2, linewidth=1, linestyle='solid')\n",
    "    ax.fill(angles, values2, 'r', alpha=0.1)\n",
    "    # Show the graph\n",
    "    return plt\n",
    "\n",
    "df"
   ]
  },
  {
   "cell_type": "code",
   "execution_count": 29,
   "metadata": {},
   "outputs": [
    {
     "data": {
      "text/plain": "                           Area         Unit Element  \\\n9034                      India  1000 tonnes    Food   \n9036                      India  1000 tonnes    Food   \n9151                      India  1000 tonnes    Food   \n9152                      India  1000 tonnes    Food   \n9156                      India  1000 tonnes    Food   \n10072                     Japan  1000 tonnes    Food   \n10074                     Japan  1000 tonnes    Food   \n10199                     Japan  1000 tonnes    Food   \n10200                     Japan  1000 tonnes    Food   \n10204                     Japan  1000 tonnes    Food   \n14466                    Norway  1000 tonnes    Food   \n14468                    Norway  1000 tonnes    Food   \n14588                    Norway  1000 tonnes    Food   \n14589                    Norway  1000 tonnes    Food   \n14593                    Norway  1000 tonnes    Food   \n16958                   Senegal  1000 tonnes    Food   \n16959                   Senegal  1000 tonnes    Food   \n17063                   Senegal  1000 tonnes    Food   \n17064                   Senegal  1000 tonnes    Food   \n17068                   Senegal  1000 tonnes    Food   \n20395  United States of America  1000 tonnes    Food   \n20396  United States of America  1000 tonnes    Food   \n20518  United States of America  1000 tonnes    Food   \n20519  United States of America  1000 tonnes    Food   \n20524  United States of America  1000 tonnes    Food   \n\n                           Item   Y2013    Y1993  kg/(person*year) 2013  \\\n9034         Wheat and products   75833  53528.0              61.439008   \n9036   Rice (Milled Equivalent)   87006  70216.0              70.491241   \n9151                 Vegetables  111082  49039.0              89.997334   \n9152    Fruits - Excluding Wine   70562  29957.0              57.168505   \n9156                       Meat    4619   3893.0               3.742260   \n10072        Wheat and products    5727   5364.0              44.553531   \n10074  Rice (Milled Equivalent)    7609   7952.0              59.194660   \n10199                Vegetables   13006  14030.0             101.180937   \n10200   Fruits - Excluding Wine    6720   6166.0              52.278633   \n10204                      Meat    6287   4963.0              48.910084   \n14466        Wheat and products     490    398.0             100.307062   \n14468  Rice (Milled Equivalent)      22     12.0               4.503582   \n14588                Vegetables     389    250.0              79.631525   \n14589   Fruits - Excluding Wine     710    446.0             145.342886   \n14593                      Meat     358    232.0              73.285568   \n16958        Wheat and products     527    180.0              41.568071   \n16959  Rice (Milled Equivalent)    1022    491.0              80.612084   \n17063                Vegetables     769    224.0              60.656255   \n17064   Fruits - Excluding Wine     306    114.0              24.136299   \n17068                      Meat     223     99.0              17.589525   \n20395        Wheat and products   25742  22639.0              83.304478   \n20396  Rice (Milled Equivalent)    2203   1834.0               7.129196   \n20518                Vegetables   36472  29704.0             118.028161   \n20519   Fruits - Excluding Wine   33454  30919.0             108.261518   \n20524                      Meat   36849  30553.0             119.248182   \n\n       kg/(person*year) 1993  \n9034               60.364728  \n9036               79.184160  \n9151               55.302382  \n9152               33.783182  \n9156                4.390224  \n10072              43.002132  \n10074              63.749619  \n10199             112.475749  \n10200              49.431609  \n10204              39.787394  \n14466              92.321967  \n14468               2.783577  \n14588              57.991185  \n14589             103.456275  \n14593              53.815820  \n16958              22.610225  \n16959              61.675669  \n17063              28.137169  \n17064              14.319809  \n17068              12.435624  \n20395              87.100547  \n20396               7.056072  \n20518             114.282197  \n20519             118.956748  \n20524             117.548611  ",
      "text/html": "<div>\n<style scoped>\n    .dataframe tbody tr th:only-of-type {\n        vertical-align: middle;\n    }\n\n    .dataframe tbody tr th {\n        vertical-align: top;\n    }\n\n    .dataframe thead th {\n        text-align: right;\n    }\n</style>\n<table border=\"1\" class=\"dataframe\">\n  <thead>\n    <tr style=\"text-align: right;\">\n      <th></th>\n      <th>Area</th>\n      <th>Unit</th>\n      <th>Element</th>\n      <th>Item</th>\n      <th>Y2013</th>\n      <th>Y1993</th>\n      <th>kg/(person*year) 2013</th>\n      <th>kg/(person*year) 1993</th>\n    </tr>\n  </thead>\n  <tbody>\n    <tr>\n      <th>9034</th>\n      <td>India</td>\n      <td>1000 tonnes</td>\n      <td>Food</td>\n      <td>Wheat and products</td>\n      <td>75833</td>\n      <td>53528.0</td>\n      <td>61.439008</td>\n      <td>60.364728</td>\n    </tr>\n    <tr>\n      <th>9036</th>\n      <td>India</td>\n      <td>1000 tonnes</td>\n      <td>Food</td>\n      <td>Rice (Milled Equivalent)</td>\n      <td>87006</td>\n      <td>70216.0</td>\n      <td>70.491241</td>\n      <td>79.184160</td>\n    </tr>\n    <tr>\n      <th>9151</th>\n      <td>India</td>\n      <td>1000 tonnes</td>\n      <td>Food</td>\n      <td>Vegetables</td>\n      <td>111082</td>\n      <td>49039.0</td>\n      <td>89.997334</td>\n      <td>55.302382</td>\n    </tr>\n    <tr>\n      <th>9152</th>\n      <td>India</td>\n      <td>1000 tonnes</td>\n      <td>Food</td>\n      <td>Fruits - Excluding Wine</td>\n      <td>70562</td>\n      <td>29957.0</td>\n      <td>57.168505</td>\n      <td>33.783182</td>\n    </tr>\n    <tr>\n      <th>9156</th>\n      <td>India</td>\n      <td>1000 tonnes</td>\n      <td>Food</td>\n      <td>Meat</td>\n      <td>4619</td>\n      <td>3893.0</td>\n      <td>3.742260</td>\n      <td>4.390224</td>\n    </tr>\n    <tr>\n      <th>10072</th>\n      <td>Japan</td>\n      <td>1000 tonnes</td>\n      <td>Food</td>\n      <td>Wheat and products</td>\n      <td>5727</td>\n      <td>5364.0</td>\n      <td>44.553531</td>\n      <td>43.002132</td>\n    </tr>\n    <tr>\n      <th>10074</th>\n      <td>Japan</td>\n      <td>1000 tonnes</td>\n      <td>Food</td>\n      <td>Rice (Milled Equivalent)</td>\n      <td>7609</td>\n      <td>7952.0</td>\n      <td>59.194660</td>\n      <td>63.749619</td>\n    </tr>\n    <tr>\n      <th>10199</th>\n      <td>Japan</td>\n      <td>1000 tonnes</td>\n      <td>Food</td>\n      <td>Vegetables</td>\n      <td>13006</td>\n      <td>14030.0</td>\n      <td>101.180937</td>\n      <td>112.475749</td>\n    </tr>\n    <tr>\n      <th>10200</th>\n      <td>Japan</td>\n      <td>1000 tonnes</td>\n      <td>Food</td>\n      <td>Fruits - Excluding Wine</td>\n      <td>6720</td>\n      <td>6166.0</td>\n      <td>52.278633</td>\n      <td>49.431609</td>\n    </tr>\n    <tr>\n      <th>10204</th>\n      <td>Japan</td>\n      <td>1000 tonnes</td>\n      <td>Food</td>\n      <td>Meat</td>\n      <td>6287</td>\n      <td>4963.0</td>\n      <td>48.910084</td>\n      <td>39.787394</td>\n    </tr>\n    <tr>\n      <th>14466</th>\n      <td>Norway</td>\n      <td>1000 tonnes</td>\n      <td>Food</td>\n      <td>Wheat and products</td>\n      <td>490</td>\n      <td>398.0</td>\n      <td>100.307062</td>\n      <td>92.321967</td>\n    </tr>\n    <tr>\n      <th>14468</th>\n      <td>Norway</td>\n      <td>1000 tonnes</td>\n      <td>Food</td>\n      <td>Rice (Milled Equivalent)</td>\n      <td>22</td>\n      <td>12.0</td>\n      <td>4.503582</td>\n      <td>2.783577</td>\n    </tr>\n    <tr>\n      <th>14588</th>\n      <td>Norway</td>\n      <td>1000 tonnes</td>\n      <td>Food</td>\n      <td>Vegetables</td>\n      <td>389</td>\n      <td>250.0</td>\n      <td>79.631525</td>\n      <td>57.991185</td>\n    </tr>\n    <tr>\n      <th>14589</th>\n      <td>Norway</td>\n      <td>1000 tonnes</td>\n      <td>Food</td>\n      <td>Fruits - Excluding Wine</td>\n      <td>710</td>\n      <td>446.0</td>\n      <td>145.342886</td>\n      <td>103.456275</td>\n    </tr>\n    <tr>\n      <th>14593</th>\n      <td>Norway</td>\n      <td>1000 tonnes</td>\n      <td>Food</td>\n      <td>Meat</td>\n      <td>358</td>\n      <td>232.0</td>\n      <td>73.285568</td>\n      <td>53.815820</td>\n    </tr>\n    <tr>\n      <th>16958</th>\n      <td>Senegal</td>\n      <td>1000 tonnes</td>\n      <td>Food</td>\n      <td>Wheat and products</td>\n      <td>527</td>\n      <td>180.0</td>\n      <td>41.568071</td>\n      <td>22.610225</td>\n    </tr>\n    <tr>\n      <th>16959</th>\n      <td>Senegal</td>\n      <td>1000 tonnes</td>\n      <td>Food</td>\n      <td>Rice (Milled Equivalent)</td>\n      <td>1022</td>\n      <td>491.0</td>\n      <td>80.612084</td>\n      <td>61.675669</td>\n    </tr>\n    <tr>\n      <th>17063</th>\n      <td>Senegal</td>\n      <td>1000 tonnes</td>\n      <td>Food</td>\n      <td>Vegetables</td>\n      <td>769</td>\n      <td>224.0</td>\n      <td>60.656255</td>\n      <td>28.137169</td>\n    </tr>\n    <tr>\n      <th>17064</th>\n      <td>Senegal</td>\n      <td>1000 tonnes</td>\n      <td>Food</td>\n      <td>Fruits - Excluding Wine</td>\n      <td>306</td>\n      <td>114.0</td>\n      <td>24.136299</td>\n      <td>14.319809</td>\n    </tr>\n    <tr>\n      <th>17068</th>\n      <td>Senegal</td>\n      <td>1000 tonnes</td>\n      <td>Food</td>\n      <td>Meat</td>\n      <td>223</td>\n      <td>99.0</td>\n      <td>17.589525</td>\n      <td>12.435624</td>\n    </tr>\n    <tr>\n      <th>20395</th>\n      <td>United States of America</td>\n      <td>1000 tonnes</td>\n      <td>Food</td>\n      <td>Wheat and products</td>\n      <td>25742</td>\n      <td>22639.0</td>\n      <td>83.304478</td>\n      <td>87.100547</td>\n    </tr>\n    <tr>\n      <th>20396</th>\n      <td>United States of America</td>\n      <td>1000 tonnes</td>\n      <td>Food</td>\n      <td>Rice (Milled Equivalent)</td>\n      <td>2203</td>\n      <td>1834.0</td>\n      <td>7.129196</td>\n      <td>7.056072</td>\n    </tr>\n    <tr>\n      <th>20518</th>\n      <td>United States of America</td>\n      <td>1000 tonnes</td>\n      <td>Food</td>\n      <td>Vegetables</td>\n      <td>36472</td>\n      <td>29704.0</td>\n      <td>118.028161</td>\n      <td>114.282197</td>\n    </tr>\n    <tr>\n      <th>20519</th>\n      <td>United States of America</td>\n      <td>1000 tonnes</td>\n      <td>Food</td>\n      <td>Fruits - Excluding Wine</td>\n      <td>33454</td>\n      <td>30919.0</td>\n      <td>108.261518</td>\n      <td>118.956748</td>\n    </tr>\n    <tr>\n      <th>20524</th>\n      <td>United States of America</td>\n      <td>1000 tonnes</td>\n      <td>Food</td>\n      <td>Meat</td>\n      <td>36849</td>\n      <td>30553.0</td>\n      <td>119.248182</td>\n      <td>117.548611</td>\n    </tr>\n  </tbody>\n</table>\n</div>"
     },
     "execution_count": 29,
     "metadata": {},
     "output_type": "execute_result"
    }
   ],
   "source": [
    "df2 = df1[((df1.Item == 'Meat')|\n",
    "                 (df1.Item == 'Fruits - Excluding Wine')|\n",
    "                 (df1.Item == 'Vegetables')|\n",
    "                 (df1.Item == 'Wheat and products')|\n",
    "                 (df1.Item == 'Rice (Milled Equivalent)'))]\n",
    "df2"
   ]
  },
  {
   "cell_type": "code",
   "execution_count": 78,
   "outputs": [
    {
     "data": {
      "text/plain": "<Figure size 432x288 with 1 Axes>",
      "image/png": "[encoded data removed]"
     },
     "metadata": {
      "needs_background": "dark"
     },
     "output_type": "display_data"
    }
   ],
   "source": [
    "df_test = df2[df2.Area =='Norway']\n",
    "\n",
    "df_test = pd.DataFrame(df_test.values[:,[3,6,7]].transpose())\n",
    "df_test.columns = df_test.iloc[0]\n",
    "\n",
    "df_test = df_test[1:].reset_index().drop('index', axis =1)\n",
    "\n",
    "\n",
    "spider(df_test).savefig('./plots/test.png')"
   ],
   "metadata": {
    "collapsed": false,
    "pycharm": {
     "name": "#%%\n"
    }
   }
  }
 ],
 "metadata": {
  "kernelspec": {
   "display_name": "Python 3 (ipykernel)",
   "language": "python",
   "name": "python3"
  },
  "language_info": {
   "codemirror_mode": {
    "name": "ipython",
    "version": 3
   },
   "file_extension": ".py",
   "mimetype": "text/x-python",
   "name": "python",
   "nbconvert_exporter": "python",
   "pygments_lexer": "ipython3",
   "version": "3.9.2"
  }
 },
 "nbformat": 4,
 "nbformat_minor": 1
}